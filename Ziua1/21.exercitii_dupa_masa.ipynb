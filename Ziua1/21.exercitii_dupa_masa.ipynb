{
 "cells": [
  {
   "cell_type": "code",
   "execution_count": 1,
   "metadata": {},
   "outputs": [
    {
     "name": "stdout",
     "output_type": "stream",
     "text": [
      "['Andrei', 'George', 'George', 'Andrei']\n"
     ]
    }
   ],
   "source": [
    "some_names = [\"Andrei\", \"George\"]\n",
    "other_names = [\"George\", \"Andrei\"]\n",
    "print(some_names + other_names)"
   ]
  },
  {
   "cell_type": "markdown",
   "metadata": {},
   "source": [
    "merge \"+\" pt a concatena 2 liste"
   ]
  },
  {
   "cell_type": "code",
   "execution_count": 3,
   "metadata": {},
   "outputs": [
    {
     "name": "stdout",
     "output_type": "stream",
     "text": [
      "['Andrei', 'George', 'I', 'o', 'n', 'u', 't']\n"
     ]
    }
   ],
   "source": [
    "some_names = [\"Andrei\", \"George\"]\n",
    "some_names += \"Ionut\"\n",
    "print(some_names)"
   ]
  },
  {
   "cell_type": "markdown",
   "metadata": {},
   "source": [
    "la concatenarea unui string cu o lista, din string face o lista cu fiecare caracter"
   ]
  },
  {
   "cell_type": "code",
   "execution_count": 4,
   "metadata": {},
   "outputs": [
    {
     "name": "stdout",
     "output_type": "stream",
     "text": [
      "{'cars': 2, 'house': 6, 3: 'cars'}\n"
     ]
    }
   ],
   "source": [
    "johannis = {\"cars\":2, \"house\":6}\n",
    "johannis[3] = \"cars\"\n",
    "print(johannis)"
   ]
  },
  {
   "cell_type": "markdown",
   "metadata": {},
   "source": [
    "se introduce o intrare in dictionar unde 3 este cheie si are valoarea \"cars\".\n",
    "nu e recomandat, dar merge"
   ]
  },
  {
   "cell_type": "code",
   "execution_count": 5,
   "metadata": {},
   "outputs": [
    {
     "name": "stdout",
     "output_type": "stream",
     "text": [
      "Mihai Bendeac este actor\n"
     ]
    }
   ],
   "source": [
    "last_name, first_name = \"Bendeac\", \"Mihai\" # packing\n",
    "print(f\"{first_name} {last_name} este actor\")"
   ]
  },
  {
   "cell_type": "code",
   "execution_count": 7,
   "metadata": {},
   "outputs": [
    {
     "name": "stdout",
     "output_type": "stream",
     "text": [
      "first_name ['Mihai', 'Valentin']\n",
      "last_name Bendeac\n"
     ]
    }
   ],
   "source": [
    "last_name, *first_name = \"Bendeac\", \"Mihai\", \"Valentin\"\n",
    "print(\"first_name\", first_name)\n",
    "print(\"last_name\", last_name)"
   ]
  },
  {
   "cell_type": "code",
   "execution_count": 9,
   "metadata": {},
   "outputs": [
    {
     "name": "stdout",
     "output_type": "stream",
     "text": [
      "first_name ['Mihai', 'Valentin']\n",
      "last_name Bendeac\n",
      "emisiune Iumor\n"
     ]
    }
   ],
   "source": [
    "last_name, *first_name, emisiune = \"Bendeac\", \"Mihai\", \"Valentin\", \"Iumor\"\n",
    "print(\"first_name\", first_name)\n",
    "print(\"last_name\", last_name)\n",
    "print(\"emisiune\", emisiune)"
   ]
  },
  {
   "cell_type": "code",
   "execution_count": 12,
   "metadata": {},
   "outputs": [
    {
     "name": "stdout",
     "output_type": "stream",
     "text": [
      "buna ziua\n"
     ]
    }
   ],
   "source": [
    "string = \"buna ziua\"\n",
    "cuvinte = string.split()\n",
    "cuvinte[::-1]\n",
    "nou_string = \" \".join(cuvinte)\n",
    "print(nou_string)"
   ]
  }
 ],
 "metadata": {
  "kernelspec": {
   "display_name": "Python 3.13.0 64-bit",
   "language": "python",
   "name": "python3"
  },
  "language_info": {
   "codemirror_mode": {
    "name": "ipython",
    "version": 3
   },
   "file_extension": ".py",
   "mimetype": "text/x-python",
   "name": "python",
   "nbconvert_exporter": "python",
   "pygments_lexer": "ipython3",
   "version": "3.13.0"
  },
  "orig_nbformat": 4,
  "vscode": {
   "interpreter": {
    "hash": "9d573840bbc172334ea6d6b5d21a7482acd9d0f18cf6c1209123d96cbe5af34c"
   }
  }
 },
 "nbformat": 4,
 "nbformat_minor": 2
}
