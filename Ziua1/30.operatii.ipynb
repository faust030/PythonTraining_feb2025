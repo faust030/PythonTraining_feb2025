{
 "cells": [
  {
   "cell_type": "code",
   "execution_count": 4,
   "metadata": {},
   "outputs": [
    {
     "name": "stdout",
     "output_type": "stream",
     "text": [
      "['1+2', '7*8', '122/11', '3**2']\n"
     ]
    }
   ],
   "source": [
    "with open(\"operatii.txt\", \"r\") as freader:\n",
    "    text = freader.read()\n",
    "    print(text.split())"
   ]
  },
  {
   "cell_type": "code",
   "execution_count": 9,
   "metadata": {},
   "outputs": [
    {
     "name": "stdout",
     "output_type": "stream",
     "text": [
      "['1+2\\n', '7*8\\n', '122/11\\n', '3**2\\n']\n"
     ]
    }
   ],
   "source": [
    "with open(\"operatii.txt\", \"r\") as freader:\n",
    "    text = freader.readlines()\n",
    "    print(text)\n"
   ]
  },
  {
   "cell_type": "code",
   "execution_count": 7,
   "metadata": {},
   "outputs": [
    {
     "name": "stdout",
     "output_type": "stream",
     "text": [
      "['1+2', '7*8', '122/11', '3**2']\n"
     ]
    }
   ],
   "source": [
    "with open(\"operatii.txt\", \"r\") as freader:\n",
    "    text = freader.read()\n",
    "    print(text.splitlines())"
   ]
  },
  {
   "cell_type": "code",
   "execution_count": 12,
   "metadata": {},
   "outputs": [
    {
     "name": "stdout",
     "output_type": "stream",
     "text": [
      "1+2 = 3\n",
      "7*8 = 56\n",
      "122/11 = 11.090909090909092\n",
      "3**2 = 9\n"
     ]
    }
   ],
   "source": [
    "with open(\"operatii.txt\", \"r\") as freader:\n",
    "    text = freader.read()\n",
    "    operatii = text.split()\n",
    "\n",
    "for op in operatii:\n",
    "    print(op, \"=\", eval(op))"
   ]
  },
  {
   "cell_type": "code",
   "execution_count": 14,
   "metadata": {},
   "outputs": [],
   "source": [
    "with open(\"operatii_resultat.txt\", \"w\") as fwriter:\n",
    "    for op in operatii:\n",
    "        fwriter.write(f\"{op} = {eval(op)} \\n\")\n"
   ]
  },
  {
   "cell_type": "code",
   "execution_count": 15,
   "metadata": {},
   "outputs": [],
   "source": [
    "with open(\"operatii_resultat.txt\", \"a\") as fwriter:\n",
    "    for op in operatii:\n",
    "        fwriter.write(f\"{op} = {eval(op)} \\n\")"
   ]
  }
 ],
 "metadata": {
  "kernelspec": {
   "display_name": "Python 3.13.0 64-bit",
   "language": "python",
   "name": "python3"
  },
  "language_info": {
   "codemirror_mode": {
    "name": "ipython",
    "version": 3
   },
   "file_extension": ".py",
   "mimetype": "text/x-python",
   "name": "python",
   "nbconvert_exporter": "python",
   "pygments_lexer": "ipython3",
   "version": "3.13.0"
  },
  "orig_nbformat": 4,
  "vscode": {
   "interpreter": {
    "hash": "9d573840bbc172334ea6d6b5d21a7482acd9d0f18cf6c1209123d96cbe5af34c"
   }
  }
 },
 "nbformat": 4,
 "nbformat_minor": 2
}
