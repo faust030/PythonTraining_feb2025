{
 "cells": [
  {
   "cell_type": "code",
   "execution_count": 1,
   "metadata": {},
   "outputs": [
    {
     "name": "stdout",
     "output_type": "stream",
     "text": [
      "Bananas\n"
     ]
    }
   ],
   "source": [
    "fruits = [\"Apples\", \"Oranges\", \"Bananas\"]\n",
    "fruit1, fruit2, fruit3 = fruits\n",
    "print(fruit3)"
   ]
  },
  {
   "cell_type": "code",
   "execution_count": 3,
   "metadata": {},
   "outputs": [
    {
     "name": "stdout",
     "output_type": "stream",
     "text": [
      "Bananas\n",
      "['Oranges', 'Apples2']\n"
     ]
    }
   ],
   "source": [
    "fruits = [\"Apples\", \"Oranges\", \"Apples2\", \"Bananas\"]\n",
    "fruit1, *fruit2, fruit3 = fruits\n",
    "print(fruit3)\n",
    "print(fruit2)"
   ]
  },
  {
   "cell_type": "code",
   "execution_count": 5,
   "metadata": {},
   "outputs": [
    {
     "name": "stdout",
     "output_type": "stream",
     "text": [
      "Original:  ('Apples', 'Oranges', 'Bananas')\n",
      "Sortata: ['Apples', 'Bananas', 'Oranges']\n"
     ]
    }
   ],
   "source": [
    "fruits = (\"Apples\", \"Oranges\", \"Bananas\")\n",
    "print(\"Original: \", fruits)\n",
    "print(\"Sortata:\", sorted(fruits))"
   ]
  },
  {
   "cell_type": "markdown",
   "metadata": {},
   "source": [
    "Cu \"sorted\" se genereaza o noua colectie."
   ]
  },
  {
   "cell_type": "markdown",
   "metadata": {},
   "source": [
    "\n",
    "\"Sorted\" este o functie built-in care nu este neaparat pt liste"
   ]
  },
  {
   "cell_type": "code",
   "execution_count": 6,
   "metadata": {},
   "outputs": [
    {
     "name": "stdout",
     "output_type": "stream",
     "text": [
      "fruits before .sort ['Apples', 'Oranges', 'Bananas']\n",
      "fruits after .sort ['Apples', 'Bananas', 'Oranges']\n"
     ]
    }
   ],
   "source": [
    "fruits = [\"Apples\", \"Oranges\", \"Bananas\"]\n",
    "print(\"fruits before .sort\", fruits)\n",
    "fruits.sort()\n",
    "print(\"fruits after .sort\", fruits)"
   ]
  },
  {
   "cell_type": "code",
   "execution_count": 9,
   "metadata": {},
   "outputs": [
    {
     "ename": "SyntaxError",
     "evalue": "unterminated string literal (detected at line 1) (1132566409.py, line 1)",
     "output_type": "error",
     "traceback": [
      "\u001b[1;36m  Cell \u001b[1;32mIn[9], line 1\u001b[1;36m\u001b[0m\n\u001b[1;33m    print('I'm taking a python exam')\u001b[0m\n\u001b[1;37m                                   ^\u001b[0m\n\u001b[1;31mSyntaxError\u001b[0m\u001b[1;31m:\u001b[0m unterminated string literal (detected at line 1)\n"
     ]
    }
   ],
   "source": [
    "print('I'm taking a python exam')"
   ]
  },
  {
   "cell_type": "code",
   "execution_count": 10,
   "metadata": {},
   "outputs": [
    {
     "name": "stdout",
     "output_type": "stream",
     "text": [
      "I'm taking a python exam\n"
     ]
    }
   ],
   "source": [
    "print('I\\'m taking a python exam')"
   ]
  },
  {
   "cell_type": "code",
   "execution_count": 13,
   "metadata": {},
   "outputs": [
    {
     "name": "stdout",
     "output_type": "stream",
     "text": [
      "titanic|was|a|huge|ship****but sadly it sunk\n"
     ]
    }
   ],
   "source": [
    "print(\"titanic\", \"was\", \"a\", \"huge\", \"ship\", sep=\"|\", end=\"****\")\n",
    "print(\"but\", \"sadly\", \"it sunk\")"
   ]
  },
  {
   "cell_type": "code",
   "execution_count": 14,
   "metadata": {},
   "outputs": [
    {
     "name": "stdout",
     "output_type": "stream",
     "text": [
      "25\n"
     ]
    }
   ],
   "source": [
    "def functia_mea(x,y,*z):\n",
    "    return (x+sum(z))**y\n",
    "\n",
    "print(functia_mea(1,2,1,1,2))"
   ]
  },
  {
   "cell_type": "code",
   "execution_count": 18,
   "metadata": {},
   "outputs": [
    {
     "name": "stdout",
     "output_type": "stream",
     "text": [
      "kargs = {'culoare': 'verde', 'miros': 'placut', 'temperatura': 20} type kargs <class 'dict'>\n",
      "args = (11, 29, 51, -31, 20) type args <class 'tuple'>\n"
     ]
    }
   ],
   "source": [
    "def fun(*args, **kargs):\n",
    "    print(\"kargs =\", kargs, \"type kargs\", type(kargs))\n",
    "    print(\"args =\", args, \"type args\", type(args))\n",
    "\n",
    "fun(11, 29, 51, -31, 20, culoare = \"verde\", miros = \"placut\", temperatura = 20)\n",
    "    "
   ]
  }
 ],
 "metadata": {
  "kernelspec": {
   "display_name": "Python 3.13.0 64-bit",
   "language": "python",
   "name": "python3"
  },
  "language_info": {
   "codemirror_mode": {
    "name": "ipython",
    "version": 3
   },
   "file_extension": ".py",
   "mimetype": "text/x-python",
   "name": "python",
   "nbconvert_exporter": "python",
   "pygments_lexer": "ipython3",
   "version": "3.13.0"
  },
  "orig_nbformat": 4,
  "vscode": {
   "interpreter": {
    "hash": "9d573840bbc172334ea6d6b5d21a7482acd9d0f18cf6c1209123d96cbe5af34c"
   }
  }
 },
 "nbformat": 4,
 "nbformat_minor": 2
}
