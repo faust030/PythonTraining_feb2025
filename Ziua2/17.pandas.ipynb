{
 "cells": [
  {
   "cell_type": "code",
   "execution_count": 1,
   "metadata": {},
   "outputs": [
    {
     "data": {
      "text/plain": [
       "'2.2.3'"
      ]
     },
     "execution_count": 1,
     "metadata": {},
     "output_type": "execute_result"
    }
   ],
   "source": [
    "import pandas as pd\n",
    "pd.__version__"
   ]
  },
  {
   "cell_type": "code",
   "execution_count": 8,
   "metadata": {},
   "outputs": [
    {
     "name": "stdout",
     "output_type": "stream",
     "text": [
      "<class 'pandas.core.series.Series'> 0      alb\n",
      "1    verde\n",
      "2    negru\n",
      "dtype: object\n"
     ]
    }
   ],
   "source": [
    "l = [\"alb\", \"verde\", \"negru\"]\n",
    "sr = pd.Series(l)\n",
    "print(type(sr), sr)"
   ]
  },
  {
   "cell_type": "code",
   "execution_count": 11,
   "metadata": {},
   "outputs": [
    {
     "name": "stdout",
     "output_type": "stream",
     "text": [
      "<class 'pandas.core.series.Series'>\n",
      "0    10\n",
      "1    20\n",
      "2    30\n",
      "dtype: int64\n"
     ]
    }
   ],
   "source": [
    "l = [10, 20, 30]\n",
    "sr = pd.Series(l)\n",
    "print(type(sr))\n",
    "print(sr)"
   ]
  },
  {
   "cell_type": "code",
   "execution_count": 14,
   "metadata": {},
   "outputs": [
    {
     "name": "stdout",
     "output_type": "stream",
     "text": [
      "Romania     17\n",
      "Franta      70\n",
      "Germania    80\n",
      "dtype: int64\n",
      "17\n"
     ]
    }
   ],
   "source": [
    "tari = [\"Romania\", \"Franta\", \"Germania\"]\n",
    "populatie = [17, 70, 80]\n",
    "sr = pd.Series(data = populatie, index=tari)\n",
    "print(sr)\n",
    "print(sr[\"Romania\"])"
   ]
  },
  {
   "cell_type": "code",
   "execution_count": 17,
   "metadata": {},
   "outputs": [
    {
     "name": "stdout",
     "output_type": "stream",
     "text": [
      "RO    17\n",
      "FR    70\n",
      "DE    80\n",
      "dtype: int64\n",
      "167\n",
      "2\n"
     ]
    }
   ],
   "source": [
    "date = {\n",
    "    \"RO\":17, \"FR\":70, \"DE\":80\n",
    "}\n",
    "sr = pd.Series(date)\n",
    "print(sr)\n",
    "print(sr.sum())\n",
    "print(sr.argmax())"
   ]
  },
  {
   "cell_type": "code",
   "execution_count": 21,
   "metadata": {},
   "outputs": [
    {
     "name": "stdout",
     "output_type": "stream",
     "text": [
      "RO    17\n",
      "FR    70\n",
      "DE    80\n",
      "dtype: int64\n",
      "ES    17\n",
      "BG    70\n",
      "IT    80\n",
      "dtype: int64\n",
      "BG    70.0\n",
      "DE    80.0\n",
      "ES    17.0\n",
      "FR    70.0\n",
      "IT    80.0\n",
      "RO    17.0\n",
      "dtype: float64\n"
     ]
    }
   ],
   "source": [
    "date_1 = {\n",
    "    \"RO\":17, \"FR\":70, \"DE\":80\n",
    "}\n",
    "sr_1 = pd.Series(date_1)\n",
    "\n",
    "date_2 = {\n",
    "    \"ES\":17, \"BG\":70, \"IT\":80\n",
    "}\n",
    "sr_2 = pd.Series(date_2)\n",
    "\n",
    "print(sr_1)\n",
    "print(sr_2)\n",
    "\n",
    "print(sr_1.add(sr_2, fill_value=0))\n",
    "\n"
   ]
  }
 ],
 "metadata": {
  "kernelspec": {
   "display_name": "Python 3.13.0 64-bit",
   "language": "python",
   "name": "python3"
  },
  "language_info": {
   "codemirror_mode": {
    "name": "ipython",
    "version": 3
   },
   "file_extension": ".py",
   "mimetype": "text/x-python",
   "name": "python",
   "nbconvert_exporter": "python",
   "pygments_lexer": "ipython3",
   "version": "3.13.0"
  },
  "orig_nbformat": 4,
  "vscode": {
   "interpreter": {
    "hash": "9d573840bbc172334ea6d6b5d21a7482acd9d0f18cf6c1209123d96cbe5af34c"
   }
  }
 },
 "nbformat": 4,
 "nbformat_minor": 2
}
