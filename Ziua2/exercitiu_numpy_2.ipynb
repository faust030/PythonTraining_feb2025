{
  "cells": [
    {
      "cell_type": "code",
      "execution_count": null,
      "metadata": {},
      "outputs": [],
      "source": [
        "\n",
        "# %%\n",
        "######### Exercitiul ################\n",
        "# Creați un vector cu 10 elemente întregi, toate fiind egale cu 0.\n",
        "\n",
        "\n"
      ]
    },
    {
      "cell_type": "code",
      "execution_count": null,
      "metadata": {},
      "outputs": [],
      "source": [
        "######### Exercitiul ################\n",
        "# Creați un vector cu 10 elemente întregi, toate fiind egale cu 1.\n",
        "\n",
        "\n"
      ]
    },
    {
      "cell_type": "code",
      "execution_count": null,
      "metadata": {},
      "outputs": [],
      "source": [
        "######### Exercitiul ################\n",
        "# Creați un vector cu elemente întregi de la 0 la 9.\n",
        "\n",
        "\n"
      ]
    },
    {
      "cell_type": "code",
      "execution_count": null,
      "metadata": {},
      "outputs": [],
      "source": [
        "######### Exercitiul ################\n",
        "# Creați un vector cu elemente întregi de la 10 la 29.\n",
        "\n"
      ]
    },
    {
      "cell_type": "code",
      "execution_count": null,
      "metadata": {},
      "outputs": [],
      "source": [
        "######### Exercitiul ################\n",
        "# Creați un vector cu elemente întregi de la 0 la 9 în ordine inversă.\n",
        "\n",
        "\n"
      ]
    },
    {
      "cell_type": "code",
      "execution_count": null,
      "metadata": {},
      "outputs": [],
      "source": [
        "######### Exercitiul ################\n",
        "# Creați un vector cu 10 elemente aleatoare între 0 și 1.\n",
        "\n"
      ]
    },
    {
      "cell_type": "code",
      "execution_count": null,
      "metadata": {},
      "outputs": [],
      "source": [
        "######### Exercitiul ################\n",
        "# Creați o matrice 3x3 cu elemente întregi aleatoare între 0 și 9.\n",
        "\n"
      ]
    },
    {
      "cell_type": "code",
      "execution_count": null,
      "metadata": {},
      "outputs": [],
      "source": [
        "######### Exercitiul ################\n",
        "# Creați o matrice identitate 5x5.\n",
        "\n",
        "\n"
      ]
    },
    {
      "cell_type": "code",
      "execution_count": null,
      "metadata": {},
      "outputs": [],
      "source": [
        "######### Exercitiul ################\n",
        "# Adunați două matrici de dimensiuni egale (de exemplu, 3x3).\n",
        "\n"
      ]
    },
    {
      "cell_type": "code",
      "execution_count": null,
      "metadata": {},
      "outputs": [],
      "source": [
        "######### Exercitiul ################\n",
        "# Înmulțiți două matrici de dimensiuni corespunzătoare (de  exemplu, 2x3 și 3x2).\n",
        "\n",
        "\n"
      ]
    },
    {
      "cell_type": "code",
      "execution_count": null,
      "metadata": {},
      "outputs": [],
      "source": [
        "######### Exercitiul ################\n",
        "# Transpuneți o matrice (de exemplu, 3x4).\n",
        "\n"
      ]
    },
    {
      "cell_type": "code",
      "execution_count": null,
      "metadata": {},
      "outputs": [],
      "source": [
        "######### Exercitiul ################\n",
        "# Găsiți valoarea maximă dintr-un vector.\n",
        "\n"
      ]
    },
    {
      "cell_type": "code",
      "execution_count": null,
      "metadata": {},
      "outputs": [],
      "source": [
        "######### Exercitiul ################\n",
        "# Găsiți indicele valorii maxime dintr-un vector.\n",
        "\n"
      ]
    },
    {
      "cell_type": "code",
      "execution_count": null,
      "metadata": {},
      "outputs": [],
      "source": [
        "######### Exercitiul ################\n",
        "# Găsiți media aritmetică a valorilor dintr-o matrice.\n"
      ]
    },
    {
      "cell_type": "code",
      "execution_count": null,
      "metadata": {},
      "outputs": [],
      "source": []
    }
  ],
  "metadata": {
    "anaconda-cloud": {},
    "kernelspec": {
      "display_name": "Python 3.13.0 64-bit",
      "language": "python",
      "name": "python3"
    },
    "language_info": {
      "codemirror_mode": {
        "name": "ipython",
        "version": 3
      },
      "file_extension": ".py",
      "mimetype": "text/x-python",
      "name": "python",
      "nbconvert_exporter": "python",
      "pygments_lexer": "ipython3",
      "version": "3.13.0"
    },
    "vscode": {
      "interpreter": {
        "hash": "9d573840bbc172334ea6d6b5d21a7482acd9d0f18cf6c1209123d96cbe5af34c"
      }
    }
  },
  "nbformat": 4,
  "nbformat_minor": 4
}
