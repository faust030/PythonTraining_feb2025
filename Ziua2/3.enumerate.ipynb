{
 "cells": [
  {
   "cell_type": "code",
   "execution_count": 2,
   "metadata": {},
   "outputs": [
    {
     "name": "stdout",
     "output_type": "stream",
     "text": [
      "Apples\n",
      "Oranges\n",
      "Bananas\n"
     ]
    }
   ],
   "source": [
    "fruits = [\"Apples\", \"Oranges\", \"Bananas\"]\n",
    "\n",
    "for i in fruits:\n",
    "    print(i)"
   ]
  },
  {
   "cell_type": "code",
   "execution_count": 7,
   "metadata": {},
   "outputs": [
    {
     "name": "stdout",
     "output_type": "stream",
     "text": [
      "i = 0 , item = Apples\n",
      "i = 1 , item = Oranges\n",
      "i = 2 , item = Bananas\n"
     ]
    }
   ],
   "source": [
    "fruits = [\"Apples\", \"Oranges\", \"Bananas\"]\n",
    "\n",
    "for i in range(len(fruits)):\n",
    "    print(\"i =\",i,\", item =\", fruits[i] )"
   ]
  },
  {
   "cell_type": "code",
   "execution_count": 8,
   "metadata": {},
   "outputs": [
    {
     "name": "stdout",
     "output_type": "stream",
     "text": [
      "(0, 'Apples')\n",
      "(1, 'Oranges')\n",
      "(2, 'Bananas')\n"
     ]
    }
   ],
   "source": [
    "fruits = [\"Apples\", \"Oranges\", \"Bananas\"]\n",
    "\n",
    "for i in enumerate(fruits):\n",
    "    print(i)"
   ]
  },
  {
   "cell_type": "code",
   "execution_count": 10,
   "metadata": {},
   "outputs": [
    {
     "name": "stdout",
     "output_type": "stream",
     "text": [
      "index = 0 , element = Apples\n",
      "index = 1 , element = Oranges\n",
      "index = 2 , element = Bananas\n"
     ]
    }
   ],
   "source": [
    "fruits = [\"Apples\", \"Oranges\", \"Bananas\"]\n",
    "\n",
    "for index, element in enumerate(fruits):\n",
    "    print(\"index =\",index,\", element =\",element)"
   ]
  },
  {
   "cell_type": "code",
   "execution_count": 12,
   "metadata": {},
   "outputs": [
    {
     "name": "stdout",
     "output_type": "stream",
     "text": [
      "[(0, 'Apples'), (1, 'Oranges'), (2, 'Bananas')]\n"
     ]
    }
   ],
   "source": [
    "fruits = [\"Apples\", \"Oranges\", \"Bananas\"]\n",
    "\n",
    "print(list(enumerate(fruits)))"
   ]
  }
 ],
 "metadata": {
  "kernelspec": {
   "display_name": "Python 3.13.0 64-bit",
   "language": "python",
   "name": "python3"
  },
  "language_info": {
   "codemirror_mode": {
    "name": "ipython",
    "version": 3
   },
   "file_extension": ".py",
   "mimetype": "text/x-python",
   "name": "python",
   "nbconvert_exporter": "python",
   "pygments_lexer": "ipython3",
   "version": "3.13.0"
  },
  "orig_nbformat": 4,
  "vscode": {
   "interpreter": {
    "hash": "9d573840bbc172334ea6d6b5d21a7482acd9d0f18cf6c1209123d96cbe5af34c"
   }
  }
 },
 "nbformat": 4,
 "nbformat_minor": 2
}
