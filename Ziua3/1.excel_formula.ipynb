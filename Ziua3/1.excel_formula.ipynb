{
 "cells": [
  {
   "cell_type": "code",
   "execution_count": 1,
   "metadata": {},
   "outputs": [],
   "source": [
    "import pandas as pd\n"
   ]
  },
  {
   "cell_type": "code",
   "execution_count": 2,
   "metadata": {},
   "outputs": [],
   "source": [
    "file_name = \"Example_use_case.xlsx\""
   ]
  },
  {
   "cell_type": "code",
   "execution_count": 6,
   "metadata": {},
   "outputs": [],
   "source": [
    "df = pd.read_excel(file_name)"
   ]
  },
  {
   "cell_type": "code",
   "execution_count": 7,
   "metadata": {},
   "outputs": [],
   "source": [
    "df.to_csv(\"Example_use_case.csv\")"
   ]
  },
  {
   "cell_type": "code",
   "execution_count": 8,
   "metadata": {},
   "outputs": [],
   "source": [
    "import formulas\n",
    "from openpyxl import load_workbook\n"
   ]
  },
  {
   "cell_type": "code",
   "execution_count": 9,
   "metadata": {},
   "outputs": [
    {
     "data": {
      "text/plain": [
       "<formulas.excel.ExcelModel at 0x202480282f0>"
      ]
     },
     "execution_count": 9,
     "metadata": {},
     "output_type": "execute_result"
    }
   ],
   "source": [
    "excel_model = formulas.ExcelModel()\n",
    "excel_model"
   ]
  },
  {
   "cell_type": "code",
   "execution_count": 11,
   "metadata": {},
   "outputs": [
    {
     "data": {
      "text/plain": [
       "<formulas.excel.ExcelModel at 0x202480282f0>"
      ]
     },
     "execution_count": 11,
     "metadata": {},
     "output_type": "execute_result"
    }
   ],
   "source": [
    "excel_model.load(file_name).finish()\n",
    "excel_model\n",
    "\n"
   ]
  },
  {
   "cell_type": "code",
   "execution_count": 12,
   "metadata": {},
   "outputs": [
    {
     "data": {
      "text/plain": [
       "Solution({self: <schedula.dispatcher.Dispatcher object at 0x00000202480286E0>, \"'[Example_use_case.xlsx]SHEET1'!B1\": <Ranges>('[Example_use_case.xlsx]SHEET1'!B1)=[[1]], \"'[Example_use_case.xlsx]SHEET1'!B2\": <Ranges>('[Example_use_case.xlsx]SHEET1'!B2)=[[45701]], \"'[Example_use_case.xlsx]INPUT 1'!A1\": <Ranges>('[Example_use_case.xlsx]INPUT 1'!A1)=[['Case']], \"'[Example_use_case.xlsx]INPUT 1'!A2\": <Ranges>('[Example_use_case.xlsx]INPUT 1'!A2)=[[1]], \"'[Example_use_case.xlsx]INPUT 1'!B1\": <Ranges>('[Example_use_case.xlsx]INPUT 1'!B1)=[['Date of birth']], \"'[Example_use_case.xlsx]INPUT 1'!B2\": <Ranges>('[Example_use_case.xlsx]INPUT 1'!B2)=[[32215]], \"'[Example_use_case.xlsx]INPUT 1'!C1\": <Ranges>('[Example_use_case.xlsx]INPUT 1'!C1)=[['Other data to the right']], \"'[Example_use_case.xlsx]INPUT 1'!C2\": <Ranges>('[Example_use_case.xlsx]INPUT 1'!C2)=[[20000]], \"'[Example_use_case.xlsx]INPUT 2'!A1\": <Ranges>('[Example_use_case.xlsx]INPUT 2'!A1)=[['Presupunerea dobanda']], \"'[Example_use_case.xlsx]INPUT 2'!A3\": <Ranges>('[Example_use_case.xlsx]INPUT 2'!A3)=[['i=']], \"'[Example_use_case.xlsx]INPUT 2'!B3\": <Ranges>('[Example_use_case.xlsx]INPUT 2'!B3)=[[0.05]], \"'[Example_use_case.xlsx]SHEET1'!A1\": <Ranges>('[Example_use_case.xlsx]SHEET1'!A1)=[['Numar de identificare']], \"'[Example_use_case.xlsx]SHEET1'!A2\": <Ranges>('[Example_use_case.xlsx]SHEET1'!A2)=[['Date of calsulation']], \"'[Example_use_case.xlsx]SHEET1'!A3\": <Ranges>('[Example_use_case.xlsx]SHEET1'!A3)=[['Date of birth']], \"'[Example_use_case.xlsx]SHEET1'!A4\": <Ranges>('[Example_use_case.xlsx]SHEET1'!A4)=[['Result of calculation']], \"'[Example_use_case.xlsx]INPUT 1'!A:B\": <Ranges>('[Example_use_case.xlsx]INPUT 1'!A:B)=[['Case' 'Date of birth']\n",
       " [1 32215]\n",
       " [empty empty]\n",
       " ...\n",
       " [empty empty]\n",
       " [empty empty]\n",
       " [empty empty]], \"'[Example_use_case.xlsx]INPUT 1'!A:C\": <Ranges>('[Example_use_case.xlsx]INPUT 1'!A:C)=[['Case' 'Date of birth' 'Other data to the right']\n",
       " [1 32215 20000]\n",
       " [empty empty empty]\n",
       " ...\n",
       " [empty empty empty]\n",
       " [empty empty empty]\n",
       " [empty empty empty]], \"'[Example_use_case.xlsx]SHEET1'!B3\": <Ranges>('[Example_use_case.xlsx]SHEET1'!B3)=[[32215]], \"'[Example_use_case.xlsx]SHEET1'!B4\": <Ranges>('[Example_use_case.xlsx]SHEET1'!B4)=[[23236.68485456566]]})"
      ]
     },
     "execution_count": 12,
     "metadata": {},
     "output_type": "execute_result"
    }
   ],
   "source": [
    "excel_model.calculate()\n"
   ]
  },
  {
   "cell_type": "code",
   "execution_count": null,
   "metadata": {},
   "outputs": [],
   "source": [
    "excel_model.write(dirpath=)"
   ]
  }
 ],
 "metadata": {
  "kernelspec": {
   "display_name": "Python 3.13.0 64-bit",
   "language": "python",
   "name": "python3"
  },
  "language_info": {
   "codemirror_mode": {
    "name": "ipython",
    "version": 3
   },
   "file_extension": ".py",
   "mimetype": "text/x-python",
   "name": "python",
   "nbconvert_exporter": "python",
   "pygments_lexer": "ipython3",
   "version": "3.13.0"
  },
  "orig_nbformat": 4,
  "vscode": {
   "interpreter": {
    "hash": "9d573840bbc172334ea6d6b5d21a7482acd9d0f18cf6c1209123d96cbe5af34c"
   }
  }
 },
 "nbformat": 4,
 "nbformat_minor": 2
}
