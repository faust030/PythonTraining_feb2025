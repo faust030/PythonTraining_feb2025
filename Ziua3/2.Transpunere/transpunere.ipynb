{
 "cells": [
  {
   "cell_type": "code",
   "execution_count": 1,
   "metadata": {},
   "outputs": [],
   "source": [
    "import pandas as pd"
   ]
  },
  {
   "cell_type": "code",
   "execution_count": 2,
   "metadata": {},
   "outputs": [],
   "source": [
    "file_name = \"de_transpus.csv\""
   ]
  },
  {
   "cell_type": "code",
   "execution_count": 3,
   "metadata": {},
   "outputs": [],
   "source": [
    "df = pd.read_csv(file_name)\n"
   ]
  },
  {
   "cell_type": "code",
   "execution_count": 4,
   "metadata": {},
   "outputs": [
    {
     "data": {
      "text/html": [
       "<div>\n",
       "<style scoped>\n",
       "    .dataframe tbody tr th:only-of-type {\n",
       "        vertical-align: middle;\n",
       "    }\n",
       "\n",
       "    .dataframe tbody tr th {\n",
       "        vertical-align: top;\n",
       "    }\n",
       "\n",
       "    .dataframe thead th {\n",
       "        text-align: right;\n",
       "    }\n",
       "</style>\n",
       "<table border=\"1\" class=\"dataframe\">\n",
       "  <thead>\n",
       "    <tr style=\"text-align: right;\">\n",
       "      <th></th>\n",
       "      <th>PRUDENT001</th>\n",
       "      <th>PRUDENT001.1</th>\n",
       "      <th>Scutire de plata a primelor</th>\n",
       "      <th>Invaliditate permanenta din accident</th>\n",
       "      <th>Invaliditate permanenta din accident.1</th>\n",
       "      <th>Diagnosticare cu cancer si tratament</th>\n",
       "      <th>Diagnosticare cu cancer si tratament.1</th>\n",
       "      <th>Pierderea involuntara a locului de munca</th>\n",
       "      <th>Pierderea involuntara a locului de munca.1</th>\n",
       "    </tr>\n",
       "  </thead>\n",
       "  <tbody>\n",
       "    <tr>\n",
       "      <th>0</th>\n",
       "      <td>Test Case</td>\n",
       "      <td>An</td>\n",
       "      <td>Prima Anuala</td>\n",
       "      <td>Suma Asigurata</td>\n",
       "      <td>Prima Anuala</td>\n",
       "      <td>Suma Asigurata</td>\n",
       "      <td>Prima Anuala</td>\n",
       "      <td>Suma Asigurata</td>\n",
       "      <td>Prima Anuala</td>\n",
       "    </tr>\n",
       "    <tr>\n",
       "      <th>1</th>\n",
       "      <td>PRUDENT001</td>\n",
       "      <td>1</td>\n",
       "      <td>111.48</td>\n",
       "      <td>75500.00</td>\n",
       "      <td>226.56</td>\n",
       "      <td>55500.00</td>\n",
       "      <td>311.76</td>\n",
       "      <td>2000.00</td>\n",
       "      <td>384.00</td>\n",
       "    </tr>\n",
       "    <tr>\n",
       "      <th>2</th>\n",
       "      <td>PRUDENT001</td>\n",
       "      <td>2</td>\n",
       "      <td>112.92</td>\n",
       "      <td>75500.00</td>\n",
       "      <td>226.56</td>\n",
       "      <td>55500.00</td>\n",
       "      <td>340.08</td>\n",
       "      <td>2000.00</td>\n",
       "      <td>384.00</td>\n",
       "    </tr>\n",
       "  </tbody>\n",
       "</table>\n",
       "</div>"
      ],
      "text/plain": [
       "   PRUDENT001 PRUDENT001.1 Scutire de plata a primelor  \\\n",
       "0   Test Case           An                Prima Anuala   \n",
       "1  PRUDENT001            1                      111.48   \n",
       "2  PRUDENT001            2                      112.92   \n",
       "\n",
       "  Invaliditate permanenta din accident Invaliditate permanenta din accident.1  \\\n",
       "0                       Suma Asigurata                           Prima Anuala   \n",
       "1                             75500.00                                 226.56   \n",
       "2                             75500.00                                 226.56   \n",
       "\n",
       "  Diagnosticare cu cancer si tratament Diagnosticare cu cancer si tratament.1  \\\n",
       "0                       Suma Asigurata                           Prima Anuala   \n",
       "1                             55500.00                                 311.76   \n",
       "2                             55500.00                                 340.08   \n",
       "\n",
       "  Pierderea involuntara a locului de munca  \\\n",
       "0                           Suma Asigurata   \n",
       "1                                  2000.00   \n",
       "2                                  2000.00   \n",
       "\n",
       "  Pierderea involuntara a locului de munca.1  \n",
       "0                               Prima Anuala  \n",
       "1                                     384.00  \n",
       "2                                     384.00  "
      ]
     },
     "execution_count": 4,
     "metadata": {},
     "output_type": "execute_result"
    }
   ],
   "source": [
    "df.head(3)"
   ]
  },
  {
   "cell_type": "code",
   "execution_count": 5,
   "metadata": {},
   "outputs": [
    {
     "data": {
      "text/plain": [
       "0      Test Case\n",
       "1     PRUDENT001\n",
       "2     PRUDENT001\n",
       "3     PRUDENT001\n",
       "4     PRUDENT001\n",
       "5     PRUDENT001\n",
       "6     PRUDENT001\n",
       "7     PRUDENT001\n",
       "8     PRUDENT001\n",
       "9     PRUDENT001\n",
       "10    PRUDENT001\n",
       "Name: PRUDENT001, dtype: object"
      ]
     },
     "execution_count": 5,
     "metadata": {},
     "output_type": "execute_result"
    }
   ],
   "source": [
    "df[\"PRUDENT001\"]"
   ]
  },
  {
   "cell_type": "code",
   "execution_count": 7,
   "metadata": {},
   "outputs": [],
   "source": [
    "df_transpus = df.T"
   ]
  }
 ],
 "metadata": {
  "kernelspec": {
   "display_name": "Python 3.13.0 64-bit",
   "language": "python",
   "name": "python3"
  },
  "language_info": {
   "codemirror_mode": {
    "name": "ipython",
    "version": 3
   },
   "file_extension": ".py",
   "mimetype": "text/x-python",
   "name": "python",
   "nbconvert_exporter": "python",
   "pygments_lexer": "ipython3",
   "version": "3.13.0"
  },
  "orig_nbformat": 4,
  "vscode": {
   "interpreter": {
    "hash": "9d573840bbc172334ea6d6b5d21a7482acd9d0f18cf6c1209123d96cbe5af34c"
   }
  }
 },
 "nbformat": 4,
 "nbformat_minor": 2
}
