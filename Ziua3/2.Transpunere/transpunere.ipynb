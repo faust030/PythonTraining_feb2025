{
 "cells": [
  {
   "cell_type": "code",
   "execution_count": 1,
   "metadata": {},
   "outputs": [],
   "source": [
    "import pandas as pd"
   ]
  },
  {
   "cell_type": "code",
   "execution_count": 2,
   "metadata": {},
   "outputs": [],
   "source": [
    "file_name = \"de_transpus.csv\""
   ]
  },
  {
   "cell_type": "code",
   "execution_count": 3,
   "metadata": {},
   "outputs": [],
   "source": [
    "df = pd.read_csv(file_name)\n"
   ]
  },
  {
   "cell_type": "code",
   "execution_count": 4,
   "metadata": {},
   "outputs": [
    {
     "data": {
      "text/html": [
       "<div>\n",
       "<style scoped>\n",
       "    .dataframe tbody tr th:only-of-type {\n",
       "        vertical-align: middle;\n",
       "    }\n",
       "\n",
       "    .dataframe tbody tr th {\n",
       "        vertical-align: top;\n",
       "    }\n",
       "\n",
       "    .dataframe thead th {\n",
       "        text-align: right;\n",
       "    }\n",
       "</style>\n",
       "<table border=\"1\" class=\"dataframe\">\n",
       "  <thead>\n",
       "    <tr style=\"text-align: right;\">\n",
       "      <th></th>\n",
       "      <th>PRUDENT001</th>\n",
       "      <th>PRUDENT001.1</th>\n",
       "      <th>Scutire de plata a primelor</th>\n",
       "      <th>Invaliditate permanenta din accident</th>\n",
       "      <th>Invaliditate permanenta din accident.1</th>\n",
       "      <th>Diagnosticare cu cancer si tratament</th>\n",
       "      <th>Diagnosticare cu cancer si tratament.1</th>\n",
       "      <th>Pierderea involuntara a locului de munca</th>\n",
       "      <th>Pierderea involuntara a locului de munca.1</th>\n",
       "    </tr>\n",
       "  </thead>\n",
       "  <tbody>\n",
       "    <tr>\n",
       "      <th>0</th>\n",
       "      <td>Test Case</td>\n",
       "      <td>An</td>\n",
       "      <td>Prima Anuala</td>\n",
       "      <td>Suma Asigurata</td>\n",
       "      <td>Prima Anuala</td>\n",
       "      <td>Suma Asigurata</td>\n",
       "      <td>Prima Anuala</td>\n",
       "      <td>Suma Asigurata</td>\n",
       "      <td>Prima Anuala</td>\n",
       "    </tr>\n",
       "    <tr>\n",
       "      <th>1</th>\n",
       "      <td>PRUDENT001</td>\n",
       "      <td>1</td>\n",
       "      <td>111.48</td>\n",
       "      <td>75500.00</td>\n",
       "      <td>226.56</td>\n",
       "      <td>55500.00</td>\n",
       "      <td>311.76</td>\n",
       "      <td>2000.00</td>\n",
       "      <td>384.00</td>\n",
       "    </tr>\n",
       "    <tr>\n",
       "      <th>2</th>\n",
       "      <td>PRUDENT001</td>\n",
       "      <td>2</td>\n",
       "      <td>112.92</td>\n",
       "      <td>75500.00</td>\n",
       "      <td>226.56</td>\n",
       "      <td>55500.00</td>\n",
       "      <td>340.08</td>\n",
       "      <td>2000.00</td>\n",
       "      <td>384.00</td>\n",
       "    </tr>\n",
       "  </tbody>\n",
       "</table>\n",
       "</div>"
      ],
      "text/plain": [
       "   PRUDENT001 PRUDENT001.1 Scutire de plata a primelor  \\\n",
       "0   Test Case           An                Prima Anuala   \n",
       "1  PRUDENT001            1                      111.48   \n",
       "2  PRUDENT001            2                      112.92   \n",
       "\n",
       "  Invaliditate permanenta din accident Invaliditate permanenta din accident.1  \\\n",
       "0                       Suma Asigurata                           Prima Anuala   \n",
       "1                             75500.00                                 226.56   \n",
       "2                             75500.00                                 226.56   \n",
       "\n",
       "  Diagnosticare cu cancer si tratament Diagnosticare cu cancer si tratament.1  \\\n",
       "0                       Suma Asigurata                           Prima Anuala   \n",
       "1                             55500.00                                 311.76   \n",
       "2                             55500.00                                 340.08   \n",
       "\n",
       "  Pierderea involuntara a locului de munca  \\\n",
       "0                           Suma Asigurata   \n",
       "1                                  2000.00   \n",
       "2                                  2000.00   \n",
       "\n",
       "  Pierderea involuntara a locului de munca.1  \n",
       "0                               Prima Anuala  \n",
       "1                                     384.00  \n",
       "2                                     384.00  "
      ]
     },
     "execution_count": 4,
     "metadata": {},
     "output_type": "execute_result"
    }
   ],
   "source": [
    "df.head(3)"
   ]
  },
  {
   "cell_type": "code",
   "execution_count": 5,
   "metadata": {},
   "outputs": [
    {
     "data": {
      "text/plain": [
       "0      Test Case\n",
       "1     PRUDENT001\n",
       "2     PRUDENT001\n",
       "3     PRUDENT001\n",
       "4     PRUDENT001\n",
       "5     PRUDENT001\n",
       "6     PRUDENT001\n",
       "7     PRUDENT001\n",
       "8     PRUDENT001\n",
       "9     PRUDENT001\n",
       "10    PRUDENT001\n",
       "Name: PRUDENT001, dtype: object"
      ]
     },
     "execution_count": 5,
     "metadata": {},
     "output_type": "execute_result"
    }
   ],
   "source": [
    "df[\"PRUDENT001\"]"
   ]
  },
  {
   "cell_type": "code",
   "execution_count": 7,
   "metadata": {},
   "outputs": [],
   "source": [
    "df_transpus = df.T"
   ]
  },
  {
   "cell_type": "code",
   "execution_count": 8,
   "metadata": {},
   "outputs": [
    {
     "data": {
      "text/html": [
       "<div>\n",
       "<style scoped>\n",
       "    .dataframe tbody tr th:only-of-type {\n",
       "        vertical-align: middle;\n",
       "    }\n",
       "\n",
       "    .dataframe tbody tr th {\n",
       "        vertical-align: top;\n",
       "    }\n",
       "\n",
       "    .dataframe thead th {\n",
       "        text-align: right;\n",
       "    }\n",
       "</style>\n",
       "<table border=\"1\" class=\"dataframe\">\n",
       "  <thead>\n",
       "    <tr style=\"text-align: right;\">\n",
       "      <th></th>\n",
       "      <th>0</th>\n",
       "      <th>1</th>\n",
       "      <th>2</th>\n",
       "      <th>3</th>\n",
       "      <th>4</th>\n",
       "      <th>5</th>\n",
       "      <th>6</th>\n",
       "      <th>7</th>\n",
       "      <th>8</th>\n",
       "      <th>9</th>\n",
       "      <th>10</th>\n",
       "    </tr>\n",
       "  </thead>\n",
       "  <tbody>\n",
       "    <tr>\n",
       "      <th>PRUDENT001</th>\n",
       "      <td>Test Case</td>\n",
       "      <td>PRUDENT001</td>\n",
       "      <td>PRUDENT001</td>\n",
       "      <td>PRUDENT001</td>\n",
       "      <td>PRUDENT001</td>\n",
       "      <td>PRUDENT001</td>\n",
       "      <td>PRUDENT001</td>\n",
       "      <td>PRUDENT001</td>\n",
       "      <td>PRUDENT001</td>\n",
       "      <td>PRUDENT001</td>\n",
       "      <td>PRUDENT001</td>\n",
       "    </tr>\n",
       "    <tr>\n",
       "      <th>PRUDENT001.1</th>\n",
       "      <td>An</td>\n",
       "      <td>1</td>\n",
       "      <td>2</td>\n",
       "      <td>3</td>\n",
       "      <td>4</td>\n",
       "      <td>5</td>\n",
       "      <td>6</td>\n",
       "      <td>7</td>\n",
       "      <td>8</td>\n",
       "      <td>9</td>\n",
       "      <td>10</td>\n",
       "    </tr>\n",
       "    <tr>\n",
       "      <th>Scutire de plata a primelor</th>\n",
       "      <td>Prima Anuala</td>\n",
       "      <td>111.48</td>\n",
       "      <td>112.92</td>\n",
       "      <td>113.28</td>\n",
       "      <td>113.76</td>\n",
       "      <td>114.24</td>\n",
       "      <td>114.72</td>\n",
       "      <td>115.92</td>\n",
       "      <td>116.52</td>\n",
       "      <td>117.24</td>\n",
       "      <td>117.96</td>\n",
       "    </tr>\n",
       "    <tr>\n",
       "      <th>Invaliditate permanenta din accident</th>\n",
       "      <td>Suma Asigurata</td>\n",
       "      <td>75500.00</td>\n",
       "      <td>75500.00</td>\n",
       "      <td>75500.00</td>\n",
       "      <td>75500.00</td>\n",
       "      <td>75500.00</td>\n",
       "      <td>75500.00</td>\n",
       "      <td>75500.00</td>\n",
       "      <td>75500.00</td>\n",
       "      <td>75500.00</td>\n",
       "      <td>75500.00</td>\n",
       "    </tr>\n",
       "    <tr>\n",
       "      <th>Invaliditate permanenta din accident.1</th>\n",
       "      <td>Prima Anuala</td>\n",
       "      <td>226.56</td>\n",
       "      <td>226.56</td>\n",
       "      <td>226.56</td>\n",
       "      <td>226.56</td>\n",
       "      <td>226.56</td>\n",
       "      <td>226.56</td>\n",
       "      <td>226.56</td>\n",
       "      <td>226.56</td>\n",
       "      <td>226.56</td>\n",
       "      <td>226.56</td>\n",
       "    </tr>\n",
       "    <tr>\n",
       "      <th>Diagnosticare cu cancer si tratament</th>\n",
       "      <td>Suma Asigurata</td>\n",
       "      <td>55500.00</td>\n",
       "      <td>55500.00</td>\n",
       "      <td>55500.00</td>\n",
       "      <td>55500.00</td>\n",
       "      <td>55500.00</td>\n",
       "      <td>55500.00</td>\n",
       "      <td>55500.00</td>\n",
       "      <td>55500.00</td>\n",
       "      <td>55500.00</td>\n",
       "      <td>55500.00</td>\n",
       "    </tr>\n",
       "    <tr>\n",
       "      <th>Diagnosticare cu cancer si tratament.1</th>\n",
       "      <td>Prima Anuala</td>\n",
       "      <td>311.76</td>\n",
       "      <td>340.08</td>\n",
       "      <td>348.00</td>\n",
       "      <td>357.00</td>\n",
       "      <td>366.60</td>\n",
       "      <td>376.92</td>\n",
       "      <td>399.24</td>\n",
       "      <td>411.96</td>\n",
       "      <td>425.76</td>\n",
       "      <td>441.48</td>\n",
       "    </tr>\n",
       "    <tr>\n",
       "      <th>Pierderea involuntara a locului de munca</th>\n",
       "      <td>Suma Asigurata</td>\n",
       "      <td>2000.00</td>\n",
       "      <td>2000.00</td>\n",
       "      <td>2000.00</td>\n",
       "      <td>2000.00</td>\n",
       "      <td>2000.00</td>\n",
       "      <td>2000.00</td>\n",
       "      <td>2000.00</td>\n",
       "      <td>2000.00</td>\n",
       "      <td>2000.00</td>\n",
       "      <td>2000.00</td>\n",
       "    </tr>\n",
       "    <tr>\n",
       "      <th>Pierderea involuntara a locului de munca.1</th>\n",
       "      <td>Prima Anuala</td>\n",
       "      <td>384.00</td>\n",
       "      <td>384.00</td>\n",
       "      <td>384.00</td>\n",
       "      <td>384.00</td>\n",
       "      <td>384.00</td>\n",
       "      <td>384.00</td>\n",
       "      <td>384.00</td>\n",
       "      <td>384.00</td>\n",
       "      <td>384.00</td>\n",
       "      <td>384.00</td>\n",
       "    </tr>\n",
       "  </tbody>\n",
       "</table>\n",
       "</div>"
      ],
      "text/plain": [
       "                                                        0           1   \\\n",
       "PRUDENT001                                       Test Case  PRUDENT001   \n",
       "PRUDENT001.1                                            An           1   \n",
       "Scutire de plata a primelor                   Prima Anuala      111.48   \n",
       "Invaliditate permanenta din accident        Suma Asigurata    75500.00   \n",
       "Invaliditate permanenta din accident.1        Prima Anuala      226.56   \n",
       "Diagnosticare cu cancer si tratament        Suma Asigurata    55500.00   \n",
       "Diagnosticare cu cancer si tratament.1        Prima Anuala      311.76   \n",
       "Pierderea involuntara a locului de munca    Suma Asigurata     2000.00   \n",
       "Pierderea involuntara a locului de munca.1    Prima Anuala      384.00   \n",
       "\n",
       "                                                    2           3   \\\n",
       "PRUDENT001                                  PRUDENT001  PRUDENT001   \n",
       "PRUDENT001.1                                         2           3   \n",
       "Scutire de plata a primelor                     112.92      113.28   \n",
       "Invaliditate permanenta din accident          75500.00    75500.00   \n",
       "Invaliditate permanenta din accident.1          226.56      226.56   \n",
       "Diagnosticare cu cancer si tratament          55500.00    55500.00   \n",
       "Diagnosticare cu cancer si tratament.1          340.08      348.00   \n",
       "Pierderea involuntara a locului de munca       2000.00     2000.00   \n",
       "Pierderea involuntara a locului de munca.1      384.00      384.00   \n",
       "\n",
       "                                                    4           5   \\\n",
       "PRUDENT001                                  PRUDENT001  PRUDENT001   \n",
       "PRUDENT001.1                                         4           5   \n",
       "Scutire de plata a primelor                     113.76      114.24   \n",
       "Invaliditate permanenta din accident          75500.00    75500.00   \n",
       "Invaliditate permanenta din accident.1          226.56      226.56   \n",
       "Diagnosticare cu cancer si tratament          55500.00    55500.00   \n",
       "Diagnosticare cu cancer si tratament.1          357.00      366.60   \n",
       "Pierderea involuntara a locului de munca       2000.00     2000.00   \n",
       "Pierderea involuntara a locului de munca.1      384.00      384.00   \n",
       "\n",
       "                                                    6           7   \\\n",
       "PRUDENT001                                  PRUDENT001  PRUDENT001   \n",
       "PRUDENT001.1                                         6           7   \n",
       "Scutire de plata a primelor                     114.72      115.92   \n",
       "Invaliditate permanenta din accident          75500.00    75500.00   \n",
       "Invaliditate permanenta din accident.1          226.56      226.56   \n",
       "Diagnosticare cu cancer si tratament          55500.00    55500.00   \n",
       "Diagnosticare cu cancer si tratament.1          376.92      399.24   \n",
       "Pierderea involuntara a locului de munca       2000.00     2000.00   \n",
       "Pierderea involuntara a locului de munca.1      384.00      384.00   \n",
       "\n",
       "                                                    8           9           10  \n",
       "PRUDENT001                                  PRUDENT001  PRUDENT001  PRUDENT001  \n",
       "PRUDENT001.1                                         8           9          10  \n",
       "Scutire de plata a primelor                     116.52      117.24      117.96  \n",
       "Invaliditate permanenta din accident          75500.00    75500.00    75500.00  \n",
       "Invaliditate permanenta din accident.1          226.56      226.56      226.56  \n",
       "Diagnosticare cu cancer si tratament          55500.00    55500.00    55500.00  \n",
       "Diagnosticare cu cancer si tratament.1          411.96      425.76      441.48  \n",
       "Pierderea involuntara a locului de munca       2000.00     2000.00     2000.00  \n",
       "Pierderea involuntara a locului de munca.1      384.00      384.00      384.00  "
      ]
     },
     "execution_count": 8,
     "metadata": {},
     "output_type": "execute_result"
    }
   ],
   "source": [
    "df_transpus"
   ]
  },
  {
   "cell_type": "code",
   "execution_count": 9,
   "metadata": {},
   "outputs": [],
   "source": [
    "df_transpus.to_csv(\"tabel_transpus.csv\")"
   ]
  },
  {
   "cell_type": "markdown",
   "metadata": {},
   "source": [
    "Versiunea 2"
   ]
  },
  {
   "cell_type": "code",
   "execution_count": 10,
   "metadata": {},
   "outputs": [],
   "source": [
    "import csv"
   ]
  },
  {
   "cell_type": "code",
   "execution_count": 13,
   "metadata": {},
   "outputs": [
    {
     "name": "stdout",
     "output_type": "stream",
     "text": [
      "PRUDENT001,PRUDENT001,Scutire de plata a primelor,Invaliditate permanenta din accident,Invaliditate permanenta din accident,Diagnosticare cu cancer si tratament,Diagnosticare cu cancer si tratament,Pierderea involuntara a locului de munca,Pierderea involuntara a locului de munca\n",
      "Test Case,An,Prima Anuala,Suma Asigurata,Prima Anuala,Suma Asigurata,Prima Anuala,Suma Asigurata,Prima Anuala\n",
      "PRUDENT001,1,111.48,75500.00,226.56,55500.00,311.76,2000.00,384.00\n",
      "PRUDENT001,2,112.92,75500.00,226.56,55500.00,340.08,2000.00,384.00\n",
      "PRUDENT001,3,113.28,75500.00,226.56,55500.00,348.00,2000.00,384.00\n",
      "PRUDENT001,4,113.76,75500.00,226.56,55500.00,357.00,2000.00,384.00\n",
      "PRUDENT001,5,114.24,75500.00,226.56,55500.00,366.60,2000.00,384.00\n",
      "PRUDENT001,6,114.72,75500.00,226.56,55500.00,376.92,2000.00,384.00\n",
      "PRUDENT001,7,115.92,75500.00,226.56,55500.00,399.24,2000.00,384.00\n",
      "PRUDENT001,8,116.52,75500.00,226.56,55500.00,411.96,2000.00,384.00\n",
      "PRUDENT001,9,117.24,75500.00,226.56,55500.00,425.76,2000.00,384.00\n",
      "PRUDENT001,10,117.96,75500.00,226.56,55500.00,441.48,2000.00,384.00\n",
      "\n"
     ]
    }
   ],
   "source": [
    "with open(file_name, \"r\") as file_reader:\n",
    "    continut = file_reader.read()\n",
    "    print(continut)"
   ]
  },
  {
   "cell_type": "code",
   "execution_count": 15,
   "metadata": {},
   "outputs": [
    {
     "name": "stdout",
     "output_type": "stream",
     "text": [
      "['PRUDENT001', 'PRUDENT001', 'Scutire de plata a primelor', 'Invaliditate permanenta din accident', 'Invaliditate permanenta din accident', 'Diagnosticare cu cancer si tratament', 'Diagnosticare cu cancer si tratament', 'Pierderea involuntara a locului de munca', 'Pierderea involuntara a locului de munca']\n",
      "['Test Case', 'An', 'Prima Anuala', 'Suma Asigurata', 'Prima Anuala', 'Suma Asigurata', 'Prima Anuala', 'Suma Asigurata', 'Prima Anuala']\n",
      "['PRUDENT001', '1', '111.48', '75500.00', '226.56', '55500.00', '311.76', '2000.00', '384.00']\n",
      "['PRUDENT001', '2', '112.92', '75500.00', '226.56', '55500.00', '340.08', '2000.00', '384.00']\n",
      "['PRUDENT001', '3', '113.28', '75500.00', '226.56', '55500.00', '348.00', '2000.00', '384.00']\n",
      "['PRUDENT001', '4', '113.76', '75500.00', '226.56', '55500.00', '357.00', '2000.00', '384.00']\n",
      "['PRUDENT001', '5', '114.24', '75500.00', '226.56', '55500.00', '366.60', '2000.00', '384.00']\n",
      "['PRUDENT001', '6', '114.72', '75500.00', '226.56', '55500.00', '376.92', '2000.00', '384.00']\n",
      "['PRUDENT001', '7', '115.92', '75500.00', '226.56', '55500.00', '399.24', '2000.00', '384.00']\n",
      "['PRUDENT001', '8', '116.52', '75500.00', '226.56', '55500.00', '411.96', '2000.00', '384.00']\n",
      "['PRUDENT001', '9', '117.24', '75500.00', '226.56', '55500.00', '425.76', '2000.00', '384.00']\n",
      "['PRUDENT001', '10', '117.96', '75500.00', '226.56', '55500.00', '441.48', '2000.00', '384.00']\n"
     ]
    }
   ],
   "source": [
    "with open(file_name, \"r\") as file_reader:\n",
    "    csv_file_reader = csv.reader(file_reader)\n",
    "    for i in csv_file_reader:\n",
    "        print(i)"
   ]
  },
  {
   "cell_type": "code",
   "execution_count": 17,
   "metadata": {},
   "outputs": [
    {
     "name": "stdout",
     "output_type": "stream",
     "text": [
      "[['PRUDENT001', 'PRUDENT001', 'Scutire de plata a primelor', 'Invaliditate permanenta din accident', 'Invaliditate permanenta din accident', 'Diagnosticare cu cancer si tratament', 'Diagnosticare cu cancer si tratament', 'Pierderea involuntara a locului de munca', 'Pierderea involuntara a locului de munca'], ['Test Case', 'An', 'Prima Anuala', 'Suma Asigurata', 'Prima Anuala', 'Suma Asigurata', 'Prima Anuala', 'Suma Asigurata', 'Prima Anuala'], ['PRUDENT001', '1', '111.48', '75500.00', '226.56', '55500.00', '311.76', '2000.00', '384.00'], ['PRUDENT001', '2', '112.92', '75500.00', '226.56', '55500.00', '340.08', '2000.00', '384.00'], ['PRUDENT001', '3', '113.28', '75500.00', '226.56', '55500.00', '348.00', '2000.00', '384.00'], ['PRUDENT001', '4', '113.76', '75500.00', '226.56', '55500.00', '357.00', '2000.00', '384.00'], ['PRUDENT001', '5', '114.24', '75500.00', '226.56', '55500.00', '366.60', '2000.00', '384.00'], ['PRUDENT001', '6', '114.72', '75500.00', '226.56', '55500.00', '376.92', '2000.00', '384.00'], ['PRUDENT001', '7', '115.92', '75500.00', '226.56', '55500.00', '399.24', '2000.00', '384.00'], ['PRUDENT001', '8', '116.52', '75500.00', '226.56', '55500.00', '411.96', '2000.00', '384.00'], ['PRUDENT001', '9', '117.24', '75500.00', '226.56', '55500.00', '425.76', '2000.00', '384.00'], ['PRUDENT001', '10', '117.96', '75500.00', '226.56', '55500.00', '441.48', '2000.00', '384.00']]\n"
     ]
    }
   ],
   "source": [
    "with open(file_name, \"r\") as file_reader:\n",
    "    csv_file_reader = csv.reader(file_reader)\n",
    "    continut = [ i for i in csv_file_reader]\n",
    "    print(continut)"
   ]
  },
  {
   "cell_type": "code",
   "execution_count": 20,
   "metadata": {},
   "outputs": [
    {
     "data": {
      "text/plain": [
       "[('Rosu', 'Sange', 0), ('Negru', 'Costum', 1), ('Verde', 'Iarba', 2)]"
      ]
     },
     "execution_count": 20,
     "metadata": {},
     "output_type": "execute_result"
    }
   ],
   "source": [
    "lista_1 = [\"Rosu\", \"Negru\", \"Verde\"]\n",
    "lista_2 = [\"Sange\", \"Costum\", \"Iarba\"]\n",
    "lista_3 = range(3)\n",
    "\n",
    "list(zip(lista_1, lista_2, lista_3))\n"
   ]
  },
  {
   "cell_type": "code",
   "execution_count": 22,
   "metadata": {},
   "outputs": [
    {
     "data": {
      "text/plain": [
       "[('Rosu', 'Negru', 'Verde'), ('Sange', 'Costum', 'Iarba'), (0, 1, 2)]"
      ]
     },
     "execution_count": 22,
     "metadata": {},
     "output_type": "execute_result"
    }
   ],
   "source": [
    "list(zip(*zip(lista_1, lista_2, lista_3)))"
   ]
  },
  {
   "cell_type": "code",
   "execution_count": 23,
   "metadata": {},
   "outputs": [],
   "source": [
    "continut_transpus = list(zip(*continut))"
   ]
  },
  {
   "cell_type": "code",
   "execution_count": 25,
   "metadata": {},
   "outputs": [],
   "source": [
    "with open (\"continut_transpus.csv\", \"w\") as file_writer:\n",
    "    csv_file_writer = csv.writer(file_writer)\n",
    "    csv_file_writer.writerows(continut_transpus)"
   ]
  }
 ],
 "metadata": {
  "kernelspec": {
   "display_name": "Python 3.13.0 64-bit",
   "language": "python",
   "name": "python3"
  },
  "language_info": {
   "codemirror_mode": {
    "name": "ipython",
    "version": 3
   },
   "file_extension": ".py",
   "mimetype": "text/x-python",
   "name": "python",
   "nbconvert_exporter": "python",
   "pygments_lexer": "ipython3",
   "version": "3.13.0"
  },
  "orig_nbformat": 4,
  "vscode": {
   "interpreter": {
    "hash": "9d573840bbc172334ea6d6b5d21a7482acd9d0f18cf6c1209123d96cbe5af34c"
   }
  }
 },
 "nbformat": 4,
 "nbformat_minor": 2
}
