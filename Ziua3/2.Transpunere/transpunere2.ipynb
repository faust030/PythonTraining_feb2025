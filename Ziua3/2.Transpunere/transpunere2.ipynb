{
 "cells": [
  {
   "cell_type": "code",
   "execution_count": 9,
   "metadata": {},
   "outputs": [],
   "source": [
    "file_name = \"culori.csv\"\n",
    "file_name_output = \"culor_transpus.csv\""
   ]
  },
  {
   "cell_type": "code",
   "execution_count": 1,
   "metadata": {},
   "outputs": [],
   "source": [
    "import csv"
   ]
  },
  {
   "cell_type": "code",
   "execution_count": 11,
   "metadata": {},
   "outputs": [
    {
     "name": "stdout",
     "output_type": "stream",
     "text": [
      "[['Rosu', 'Negru', 'Verde'], ['Sange', 'Costum', 'Iarba'], ['1', '2', '3']]\n",
      "[('Rosu', 'Sange', '1'), ('Negru', 'Costum', '2'), ('Verde', 'Iarba', '3')]\n"
     ]
    }
   ],
   "source": [
    "with open (file_name, \"r\") as file_reader, open (file_name_output, \"w\") as file_writer:\n",
    "    csv_file_reader = csv.reader(file_reader)\n",
    "    \n",
    "    continut = list(csv_file_reader)\n",
    "    print(continut)\n",
    "\n",
    "    continut_transpus = list(zip(*continut))\n",
    "    print(continut_transpus)\n",
    "\n",
    "    csv_file_writer = csv.writer(file_writer)\n",
    "    csv_file_writer.writerows(continut_transpus)\n",
    "    "
   ]
  }
 ],
 "metadata": {
  "kernelspec": {
   "display_name": "Python 3.13.0 64-bit",
   "language": "python",
   "name": "python3"
  },
  "language_info": {
   "codemirror_mode": {
    "name": "ipython",
    "version": 3
   },
   "file_extension": ".py",
   "mimetype": "text/x-python",
   "name": "python",
   "nbconvert_exporter": "python",
   "pygments_lexer": "ipython3",
   "version": "3.13.0"
  },
  "orig_nbformat": 4,
  "vscode": {
   "interpreter": {
    "hash": "9d573840bbc172334ea6d6b5d21a7482acd9d0f18cf6c1209123d96cbe5af34c"
   }
  }
 },
 "nbformat": 4,
 "nbformat_minor": 2
}
