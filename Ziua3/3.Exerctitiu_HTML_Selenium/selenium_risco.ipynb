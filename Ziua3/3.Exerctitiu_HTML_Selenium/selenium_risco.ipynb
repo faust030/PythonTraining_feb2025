{
 "cells": [
  {
   "cell_type": "code",
   "execution_count": 1,
   "metadata": {},
   "outputs": [],
   "source": [
    "link_site = \"\""
   ]
  },
  {
   "cell_type": "code",
   "execution_count": 2,
   "metadata": {},
   "outputs": [],
   "source": [
    "from selenium import webdriver\n",
    "from selenium.webdriver.common.by import By"
   ]
  },
  {
   "cell_type": "code",
   "execution_count": 3,
   "metadata": {},
   "outputs": [],
   "source": [
    "COOKIE_CLASS = \"cc-nb-okagree\""
   ]
  },
  {
   "cell_type": "code",
   "execution_count": 6,
   "metadata": {},
   "outputs": [
    {
     "ename": "InvalidArgumentException",
     "evalue": "Message: invalid argument\n  (Session info: chrome=133.0.6943.59)\nStacktrace:\n\tGetHandleVerifier [0x00007FF729896F15+28773]\n\t(No symbol) [0x00007FF729802600]\n\t(No symbol) [0x00007FF729698DDC]\n\t(No symbol) [0x00007FF729685B67]\n\t(No symbol) [0x00007FF729683F62]\n\t(No symbol) [0x00007FF7296845CC]\n\t(No symbol) [0x00007FF72969CDFA]\n\t(No symbol) [0x00007FF7297405AE]\n\t(No symbol) [0x00007FF72971724A]\n\t(No symbol) [0x00007FF72973F6F3]\n\t(No symbol) [0x00007FF729717023]\n\t(No symbol) [0x00007FF7296DFF5E]\n\t(No symbol) [0x00007FF7296E11E3]\n\tGetHandleVerifier [0x00007FF729BE425D+3490733]\n\tGetHandleVerifier [0x00007FF729BFBA43+3586963]\n\tGetHandleVerifier [0x00007FF729BF147D+3544525]\n\tGetHandleVerifier [0x00007FF72995C9DA+838442]\n\t(No symbol) [0x00007FF72980D04F]\n\t(No symbol) [0x00007FF729809614]\n\t(No symbol) [0x00007FF7298097B6]\n\t(No symbol) [0x00007FF7297F8CE9]\n\tBaseThreadInitThunk [0x00007FFED3D97374+20]\n\tRtlUserThreadStart [0x00007FFED403CC91+33]\n",
     "output_type": "error",
     "traceback": [
      "\u001b[1;31m---------------------------------------------------------------------------\u001b[0m",
      "\u001b[1;31mInvalidArgumentException\u001b[0m                  Traceback (most recent call last)",
      "Cell \u001b[1;32mIn[6], line 2\u001b[0m\n\u001b[0;32m      1\u001b[0m browser \u001b[39m=\u001b[39m webdriver\u001b[39m.\u001b[39mChrome()\n\u001b[1;32m----> 2\u001b[0m browser\u001b[39m.\u001b[39;49mget(link_site)\n\u001b[0;32m      4\u001b[0m buton_cookies \u001b[39m=\u001b[39m browser\u001b[39m.\u001b[39mfind_element(By\u001b[39m.\u001b[39mCLASS_NAME, COOKIE_CLASS)\n\u001b[0;32m      5\u001b[0m buton_cookies\n",
      "File \u001b[1;32mc:\\Users\\training\\AppData\\Local\\Programs\\Python\\Python313\\Lib\\site-packages\\selenium\\webdriver\\remote\\webdriver.py:389\u001b[0m, in \u001b[0;36mWebDriver.get\u001b[1;34m(self, url)\u001b[0m\n\u001b[0;32m    387\u001b[0m \u001b[39mdef\u001b[39;00m \u001b[39mget\u001b[39m(\u001b[39mself\u001b[39m, url: \u001b[39mstr\u001b[39m) \u001b[39m-\u001b[39m\u001b[39m>\u001b[39m \u001b[39mNone\u001b[39;00m:\n\u001b[0;32m    388\u001b[0m \u001b[39m    \u001b[39m\u001b[39m\"\"\"Loads a web page in the current browser session.\"\"\"\u001b[39;00m\n\u001b[1;32m--> 389\u001b[0m     \u001b[39mself\u001b[39;49m\u001b[39m.\u001b[39;49mexecute(Command\u001b[39m.\u001b[39;49mGET, {\u001b[39m\"\u001b[39;49m\u001b[39murl\u001b[39;49m\u001b[39m\"\u001b[39;49m: url})\n",
      "File \u001b[1;32mc:\\Users\\training\\AppData\\Local\\Programs\\Python\\Python313\\Lib\\site-packages\\selenium\\webdriver\\remote\\webdriver.py:380\u001b[0m, in \u001b[0;36mWebDriver.execute\u001b[1;34m(self, driver_command, params)\u001b[0m\n\u001b[0;32m    378\u001b[0m response \u001b[39m=\u001b[39m \u001b[39mself\u001b[39m\u001b[39m.\u001b[39mcommand_executor\u001b[39m.\u001b[39mexecute(driver_command, params)\n\u001b[0;32m    379\u001b[0m \u001b[39mif\u001b[39;00m response:\n\u001b[1;32m--> 380\u001b[0m     \u001b[39mself\u001b[39;49m\u001b[39m.\u001b[39;49merror_handler\u001b[39m.\u001b[39;49mcheck_response(response)\n\u001b[0;32m    381\u001b[0m     response[\u001b[39m\"\u001b[39m\u001b[39mvalue\u001b[39m\u001b[39m\"\u001b[39m] \u001b[39m=\u001b[39m \u001b[39mself\u001b[39m\u001b[39m.\u001b[39m_unwrap_value(response\u001b[39m.\u001b[39mget(\u001b[39m\"\u001b[39m\u001b[39mvalue\u001b[39m\u001b[39m\"\u001b[39m, \u001b[39mNone\u001b[39;00m))\n\u001b[0;32m    382\u001b[0m     \u001b[39mreturn\u001b[39;00m response\n",
      "File \u001b[1;32mc:\\Users\\training\\AppData\\Local\\Programs\\Python\\Python313\\Lib\\site-packages\\selenium\\webdriver\\remote\\errorhandler.py:229\u001b[0m, in \u001b[0;36mErrorHandler.check_response\u001b[1;34m(self, response)\u001b[0m\n\u001b[0;32m    227\u001b[0m         alert_text \u001b[39m=\u001b[39m value[\u001b[39m\"\u001b[39m\u001b[39malert\u001b[39m\u001b[39m\"\u001b[39m]\u001b[39m.\u001b[39mget(\u001b[39m\"\u001b[39m\u001b[39mtext\u001b[39m\u001b[39m\"\u001b[39m)\n\u001b[0;32m    228\u001b[0m     \u001b[39mraise\u001b[39;00m exception_class(message, screen, stacktrace, alert_text)  \u001b[39m# type: ignore[call-arg]  # mypy is not smart enough here\u001b[39;00m\n\u001b[1;32m--> 229\u001b[0m \u001b[39mraise\u001b[39;00m exception_class(message, screen, stacktrace)\n",
      "\u001b[1;31mInvalidArgumentException\u001b[0m: Message: invalid argument\n  (Session info: chrome=133.0.6943.59)\nStacktrace:\n\tGetHandleVerifier [0x00007FF729896F15+28773]\n\t(No symbol) [0x00007FF729802600]\n\t(No symbol) [0x00007FF729698DDC]\n\t(No symbol) [0x00007FF729685B67]\n\t(No symbol) [0x00007FF729683F62]\n\t(No symbol) [0x00007FF7296845CC]\n\t(No symbol) [0x00007FF72969CDFA]\n\t(No symbol) [0x00007FF7297405AE]\n\t(No symbol) [0x00007FF72971724A]\n\t(No symbol) [0x00007FF72973F6F3]\n\t(No symbol) [0x00007FF729717023]\n\t(No symbol) [0x00007FF7296DFF5E]\n\t(No symbol) [0x00007FF7296E11E3]\n\tGetHandleVerifier [0x00007FF729BE425D+3490733]\n\tGetHandleVerifier [0x00007FF729BFBA43+3586963]\n\tGetHandleVerifier [0x00007FF729BF147D+3544525]\n\tGetHandleVerifier [0x00007FF72995C9DA+838442]\n\t(No symbol) [0x00007FF72980D04F]\n\t(No symbol) [0x00007FF729809614]\n\t(No symbol) [0x00007FF7298097B6]\n\t(No symbol) [0x00007FF7297F8CE9]\n\tBaseThreadInitThunk [0x00007FFED3D97374+20]\n\tRtlUserThreadStart [0x00007FFED403CC91+33]\n"
     ]
    }
   ],
   "source": [
    "browser = webdriver.Chrome()\n",
    "browser.get(link_site)\n",
    "\n",
    "buton_cookies = browser.find_element(By.CLASS_NAME, COOKIE_CLASS)\n",
    "buton_cookies.click()\n",
    "\n"
   ]
  }
 ],
 "metadata": {
  "kernelspec": {
   "display_name": "Python 3.13.0 64-bit",
   "language": "python",
   "name": "python3"
  },
  "language_info": {
   "codemirror_mode": {
    "name": "ipython",
    "version": 3
   },
   "file_extension": ".py",
   "mimetype": "text/x-python",
   "name": "python",
   "nbconvert_exporter": "python",
   "pygments_lexer": "ipython3",
   "version": "3.13.0"
  },
  "orig_nbformat": 4,
  "vscode": {
   "interpreter": {
    "hash": "9d573840bbc172334ea6d6b5d21a7482acd9d0f18cf6c1209123d96cbe5af34c"
   }
  }
 },
 "nbformat": 4,
 "nbformat_minor": 2
}
