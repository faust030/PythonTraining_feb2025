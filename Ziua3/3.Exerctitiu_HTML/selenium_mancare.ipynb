{
 "cells": [
  {
   "cell_type": "code",
   "execution_count": 1,
   "metadata": {},
   "outputs": [],
   "source": [
    "link_site = \"https://stradale.ro/locatie/stradale-one-cotroceni/\"\n"
   ]
  },
  {
   "cell_type": "code",
   "execution_count": 2,
   "metadata": {},
   "outputs": [],
   "source": [
    "from selenium import webdriver\n",
    "from selenium.webdriver.common.by import By"
   ]
  },
  {
   "cell_type": "code",
   "execution_count": 9,
   "metadata": {},
   "outputs": [
    {
     "name": "stdout",
     "output_type": "stream",
     "text": [
      "Ciorba de Perisoare\n",
      "Ficatei de Pui la Ceaun\n",
      "Chifla/Mamaliga\n"
     ]
    }
   ],
   "source": [
    "browser = webdriver.Chrome()\n",
    "browser.get(link_site)\n",
    "\n",
    "COOKIE_ID = \"CybotCookiebotDialogBodyLevelButtonLevelOptinAllowAll\"\n",
    "\n",
    "buton_cookies = browser.find_element(By.ID, COOKIE_ID)\n",
    "buton_cookies.click()\n",
    "\n",
    "MENU_XPATH = '//*[@id=\"location-21110\"]/div/div[2]/div[2]/p[11]'\n",
    "\n",
    "meniul_zile = browser.find_element(By.XPATH, MENU_XPATH)\n",
    "meniul_zile.text\n",
    "print(meniul_zile.text)"
   ]
  },
  {
   "cell_type": "code",
   "execution_count": 6,
   "metadata": {},
   "outputs": [
    {
     "name": "stdout",
     "output_type": "stream",
     "text": [
      "Ciorba de Perisoare\n",
      "Ficatei de Pui la Ceaun\n",
      "Chifla/Mamaliga\n"
     ]
    }
   ],
   "source": [
    "print(meniul_zile.text)"
   ]
  }
 ],
 "metadata": {
  "kernelspec": {
   "display_name": "Python 3.13.0 64-bit",
   "language": "python",
   "name": "python3"
  },
  "language_info": {
   "codemirror_mode": {
    "name": "ipython",
    "version": 3
   },
   "file_extension": ".py",
   "mimetype": "text/x-python",
   "name": "python",
   "nbconvert_exporter": "python",
   "pygments_lexer": "ipython3",
   "version": "3.13.0"
  },
  "orig_nbformat": 4,
  "vscode": {
   "interpreter": {
    "hash": "9d573840bbc172334ea6d6b5d21a7482acd9d0f18cf6c1209123d96cbe5af34c"
   }
  }
 },
 "nbformat": 4,
 "nbformat_minor": 2
}
