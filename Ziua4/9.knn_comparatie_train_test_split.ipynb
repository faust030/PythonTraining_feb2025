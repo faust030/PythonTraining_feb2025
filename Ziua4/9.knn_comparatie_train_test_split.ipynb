{
 "cells": [
  {
   "cell_type": "code",
   "execution_count": 4,
   "metadata": {},
   "outputs": [],
   "source": [
    "import numpy as np\n",
    "import pandas as pd\n",
    "import matplotlib.pyplot as plt\n",
    "from sklearn.datasets import make_regression\n",
    "from sklearn.linear_model import LinearRegression\n",
    "from sklearn.neighbors import KNeighborsRegressor\n",
    "from sklearn.metrics import r2_score\n",
    "from sklearn.model_selection import train_test_split\n"
   ]
  },
  {
   "cell_type": "code",
   "execution_count": 6,
   "metadata": {},
   "outputs": [
    {
     "data": {
      "image/png": "[encoded data removed]",
      "text/plain": [
       "<Figure size 640x480 with 1 Axes>"
      ]
     },
     "metadata": {},
     "output_type": "display_data"
    }
   ],
   "source": [
    "x_total, y_total = make_regression(n_samples = 20, n_features = 1, n_targets = 1, noise = 1)\n",
    "plt.scatter(x_total, y_total)\n",
    "plt.show()"
   ]
  },
  {
   "cell_type": "code",
   "execution_count": 8,
   "metadata": {},
   "outputs": [
    {
     "name": "stdout",
     "output_type": "stream",
     "text": [
      "<class 'list'> 4\n",
      "<class 'numpy.ndarray'> 15\n",
      "<class 'numpy.ndarray'> 5\n",
      "<class 'numpy.ndarray'> 15\n",
      "<class 'numpy.ndarray'> 5\n"
     ]
    }
   ],
   "source": [
    "rezultat = train_test_split(x_total, y_total)\n",
    "print(type(rezultat), len(rezultat))\n",
    "for i in range(4):\n",
    "    print(type(rezultat[i]), len(rezultat[i]))"
   ]
  },
  {
   "cell_type": "code",
   "execution_count": 9,
   "metadata": {},
   "outputs": [],
   "source": [
    "x_train, x_test, y_train, y_test = rezultat\n"
   ]
  },
  {
   "cell_type": "code",
   "execution_count": 10,
   "metadata": {},
   "outputs": [],
   "source": [
    "KNN_options = range(2, 10)\n",
    "\n",
    "score_dict = {\n",
    "\n",
    "}"
   ]
  },
  {
   "cell_type": "code",
   "execution_count": 11,
   "metadata": {},
   "outputs": [],
   "source": [
    "for option in KNN_options:\n",
    "    knn_model = KNeighborsRegressor(n_neighbors=option)\n",
    "    knn_model.fit(x_train, y_train)\n",
    "    score = knn_model.score(x_test, y_test)\n",
    "    score_dict[option] = score\n",
    "    "
   ]
  },
  {
   "cell_type": "code",
   "execution_count": 12,
   "metadata": {},
   "outputs": [
    {
     "data": {
      "text/plain": [
       "{2: 0.8050800217298426,\n",
       " 3: 0.9499987877823262,\n",
       " 4: 0.9441745526805815,\n",
       " 5: 0.8748474048343378,\n",
       " 6: 0.8048306731570931,\n",
       " 7: 0.711697060861453,\n",
       " 8: 0.5990427506629115,\n",
       " 9: 0.509125097415509}"
      ]
     },
     "execution_count": 12,
     "metadata": {},
     "output_type": "execute_result"
    }
   ],
   "source": [
    "score_dict\n"
   ]
  }
 ],
 "metadata": {
  "kernelspec": {
   "display_name": "Python 3.13.0 64-bit",
   "language": "python",
   "name": "python3"
  },
  "language_info": {
   "codemirror_mode": {
    "name": "ipython",
    "version": 3
   },
   "file_extension": ".py",
   "mimetype": "text/x-python",
   "name": "python",
   "nbconvert_exporter": "python",
   "pygments_lexer": "ipython3",
   "version": "3.13.0"
  },
  "orig_nbformat": 4,
  "vscode": {
   "interpreter": {
    "hash": "9d573840bbc172334ea6d6b5d21a7482acd9d0f18cf6c1209123d96cbe5af34c"
   }
  }
 },
 "nbformat": 4,
 "nbformat_minor": 2
}
